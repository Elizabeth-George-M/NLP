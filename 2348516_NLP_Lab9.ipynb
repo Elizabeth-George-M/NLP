{
  "nbformat": 4,
  "nbformat_minor": 0,
  "metadata": {
    "colab": {
      "provenance": []
    },
    "kernelspec": {
      "name": "python3",
      "display_name": "Python 3"
    },
    "language_info": {
      "name": "python"
    }
  },
  "cells": [
    {
      "cell_type": "markdown",
      "source": [
        "**Edit Distance**"
      ],
      "metadata": {
        "id": "Y_V5D7yFUJbb"
      }
    },
    {
      "cell_type": "code",
      "execution_count": 1,
      "metadata": {
        "id": "rLfcMEpyUFZJ"
      },
      "outputs": [],
      "source": [
        "def editDistance(str1, str2, m, n):\n",
        "    if m == 0:\n",
        "        return n\n",
        "    if n == 0:\n",
        "        return m\n",
        "\n",
        "    if str1[m-1] == str2[n-1]:\n",
        "        return editDistance(str1, str2, m-1, n-1)\n",
        "\n",
        "    return 1 + min(editDistance(str1, str2, m, n-1),    # Insert\n",
        "                   editDistance(str1, str2, m-1, n),    # Remove\n",
        "                   editDistance(str1, str2, m-1, n-1)    # Replace\n",
        "                   )"
      ]
    },
    {
      "cell_type": "code",
      "source": [
        "str1=input(\"Enter First String:\")\n",
        "str2=input(\"Enter Second String:\")\n",
        "print(editDistance(str1, str2, len(str1), len(str2)))"
      ],
      "metadata": {
        "colab": {
          "base_uri": "https://localhost:8080/"
        },
        "id": "0M_ub7osUNk-",
        "outputId": "16dc4307-b1d8-41cc-e579-c6f15592ee6d"
      },
      "execution_count": 2,
      "outputs": [
        {
          "output_type": "stream",
          "name": "stdout",
          "text": [
            "Enter First String:hello\n",
            "Enter Second String:good\n",
            "5\n"
          ]
        }
      ]
    },
    {
      "cell_type": "markdown",
      "source": [
        "**Poem Generation**"
      ],
      "metadata": {
        "id": "05dkC-iTUW66"
      }
    },
    {
      "cell_type": "code",
      "source": [
        "import numpy as np\n",
        "import pandas as pd\n",
        "import matplotlib.pyplot as plt\n",
        "import tensorflow.keras.utils as ku\n",
        "from tensorflow.keras.preprocessing.sequence import pad_sequences\n",
        "from tensorflow.keras.layers import Embedding, LSTM, Dense, Dropout, Bidirectional\n",
        "from tensorflow.keras.preprocessing.text import Tokenizer\n",
        "from tensorflow.keras.models import Sequential\n",
        "from tensorflow.keras.optimizers import Adam\n",
        "from tensorflow.keras import regularizers"
      ],
      "metadata": {
        "id": "lsQMJ1GuUUwj"
      },
      "execution_count": 3,
      "outputs": []
    },
    {
      "cell_type": "code",
      "source": [
        "data = open('/content/poem.txt', encoding=\"utf8\").read()\n",
        "corpus = data.lower().split(\"\\n\")\n",
        "tokenizer = Tokenizer()\n",
        "tokenizer.fit_on_texts(corpus)\n",
        "total_words = len(tokenizer.word_index)\n",
        "\n",
        "print(\"Total Words:\", total_words)"
      ],
      "metadata": {
        "colab": {
          "base_uri": "https://localhost:8080/"
        },
        "id": "1-_PwSi1UggF",
        "outputId": "63c588dd-2561-4614-edb7-8bd77d504481"
      },
      "execution_count": 12,
      "outputs": [
        {
          "output_type": "stream",
          "name": "stdout",
          "text": [
            "Total Words: 353\n"
          ]
        }
      ]
    },
    {
      "cell_type": "markdown",
      "source": [
        "**Text to Embedding**"
      ],
      "metadata": {
        "id": "Edz3yHCqVctt"
      }
    },
    {
      "cell_type": "code",
      "source": [
        "input_sequences = []\n",
        "for line in corpus:\n",
        "    token_list = tokenizer.texts_to_sequences([line])[0]\n",
        "    for i in range(1, len(token_list)):\n",
        "        n_gram_sequence = token_list[:i+1]\n",
        "        input_sequences.append(n_gram_sequence)\n",
        "\n",
        "max_sequence_len = max([len(x) for x in input_sequences])\n",
        "input_sequences = np.array(pad_sequences(input_sequences, maxlen=max_sequence_len, padding='pre'))\n",
        "predictors, label = input_sequences[:, :-1], input_sequences[:, -1]\n",
        "label = ku.to_categorical(label, num_classes=total_words+1)"
      ],
      "metadata": {
        "id": "zgncjqgVVd6h"
      },
      "execution_count": 13,
      "outputs": []
    },
    {
      "cell_type": "markdown",
      "source": [
        "**Bi-directional LSTM Model**"
      ],
      "metadata": {
        "id": "p_Q4glWkVhum"
      }
    },
    {
      "cell_type": "code",
      "source": [
        "model = Sequential()\n",
        "model.add(Embedding(total_words+1, 100, input_length=max_sequence_len-1))\n",
        "model.add(Bidirectional(LSTM(150, return_sequences=True)))\n",
        "model.add(Dropout(0.2))\n",
        "model.add(LSTM(100))\n",
        "model.add(Dense(total_words+1/2, activation='relu', kernel_regularizer=regularizers.l2(0.01)))\n",
        "model.add(Dense(total_words+1, activation='softmax'))\n",
        "model.compile(loss='categorical_crossentropy', optimizer='adam', metrics=['accuracy'])\n",
        "print(model.summary())"
      ],
      "metadata": {
        "colab": {
          "base_uri": "https://localhost:8080/"
        },
        "id": "eEc9EGPHVf34",
        "outputId": "2e6e324a-8f6b-4794-c8d0-e7617439932a"
      },
      "execution_count": 14,
      "outputs": [
        {
          "output_type": "stream",
          "name": "stdout",
          "text": [
            "Model: \"sequential_1\"\n",
            "_________________________________________________________________\n",
            " Layer (type)                Output Shape              Param #   \n",
            "=================================================================\n",
            " embedding_1 (Embedding)     (None, 9, 100)            35400     \n",
            "                                                                 \n",
            " bidirectional_1 (Bidirecti  (None, 9, 300)            301200    \n",
            " onal)                                                           \n",
            "                                                                 \n",
            " dropout_1 (Dropout)         (None, 9, 300)            0         \n",
            "                                                                 \n",
            " lstm_3 (LSTM)               (None, 100)               160400    \n",
            "                                                                 \n",
            " dense_2 (Dense)             (None, 353)               35653     \n",
            "                                                                 \n",
            " dense_3 (Dense)             (None, 354)               125316    \n",
            "                                                                 \n",
            "=================================================================\n",
            "Total params: 657969 (2.51 MB)\n",
            "Trainable params: 657969 (2.51 MB)\n",
            "Non-trainable params: 0 (0.00 Byte)\n",
            "_________________________________________________________________\n",
            "None\n"
          ]
        }
      ]
    },
    {
      "cell_type": "code",
      "source": [
        "history = model.fit(predictors, label, epochs=100, verbose=1)"
      ],
      "metadata": {
        "colab": {
          "base_uri": "https://localhost:8080/"
        },
        "id": "vQEXrEEuVmnw",
        "outputId": "a15b54bf-e395-43ba-8845-f6f9591e94ff"
      },
      "execution_count": 15,
      "outputs": [
        {
          "output_type": "stream",
          "name": "stdout",
          "text": [
            "Epoch 1/100\n",
            "22/22 [==============================] - 9s 59ms/step - loss: 6.9734 - accuracy: 0.0579\n",
            "Epoch 2/100\n",
            "22/22 [==============================] - 1s 59ms/step - loss: 6.0891 - accuracy: 0.0507\n",
            "Epoch 3/100\n",
            "22/22 [==============================] - 1s 58ms/step - loss: 5.6685 - accuracy: 0.0651\n",
            "Epoch 4/100\n",
            "22/22 [==============================] - 1s 59ms/step - loss: 5.4356 - accuracy: 0.0622\n",
            "Epoch 5/100\n",
            "22/22 [==============================] - 2s 104ms/step - loss: 5.2331 - accuracy: 0.0810\n",
            "Epoch 6/100\n",
            "22/22 [==============================] - 2s 72ms/step - loss: 5.0562 - accuracy: 0.0854\n",
            "Epoch 7/100\n",
            "22/22 [==============================] - 1s 57ms/step - loss: 4.8999 - accuracy: 0.0941\n",
            "Epoch 8/100\n",
            "22/22 [==============================] - 1s 58ms/step - loss: 4.7606 - accuracy: 0.0970\n",
            "Epoch 9/100\n",
            "22/22 [==============================] - 1s 57ms/step - loss: 4.6112 - accuracy: 0.1071\n",
            "Epoch 10/100\n",
            "22/22 [==============================] - 1s 57ms/step - loss: 4.4988 - accuracy: 0.1201\n",
            "Epoch 11/100\n",
            "22/22 [==============================] - 1s 56ms/step - loss: 4.3764 - accuracy: 0.1201\n",
            "Epoch 12/100\n",
            "22/22 [==============================] - 1s 59ms/step - loss: 4.2960 - accuracy: 0.1302\n",
            "Epoch 13/100\n",
            "22/22 [==============================] - 1s 57ms/step - loss: 4.1954 - accuracy: 0.1274\n",
            "Epoch 14/100\n",
            "22/22 [==============================] - 2s 104ms/step - loss: 4.1171 - accuracy: 0.1433\n",
            "Epoch 15/100\n",
            "22/22 [==============================] - 2s 67ms/step - loss: 4.0398 - accuracy: 0.1548\n",
            "Epoch 16/100\n",
            "22/22 [==============================] - 1s 56ms/step - loss: 3.9993 - accuracy: 0.1491\n",
            "Epoch 17/100\n",
            "22/22 [==============================] - 1s 56ms/step - loss: 3.9583 - accuracy: 0.1664\n",
            "Epoch 18/100\n",
            "22/22 [==============================] - 1s 56ms/step - loss: 3.8651 - accuracy: 0.1577\n",
            "Epoch 19/100\n",
            "22/22 [==============================] - 1s 56ms/step - loss: 3.8343 - accuracy: 0.1823\n",
            "Epoch 20/100\n",
            "22/22 [==============================] - 1s 56ms/step - loss: 3.7409 - accuracy: 0.2055\n",
            "Epoch 21/100\n",
            "22/22 [==============================] - 1s 58ms/step - loss: 3.6480 - accuracy: 0.2041\n",
            "Epoch 22/100\n",
            "22/22 [==============================] - 1s 57ms/step - loss: 3.5613 - accuracy: 0.2272\n",
            "Epoch 23/100\n",
            "22/22 [==============================] - 2s 98ms/step - loss: 3.4905 - accuracy: 0.2315\n",
            "Epoch 24/100\n",
            "22/22 [==============================] - 2s 71ms/step - loss: 3.4310 - accuracy: 0.2315\n",
            "Epoch 25/100\n",
            "22/22 [==============================] - 1s 57ms/step - loss: 3.3740 - accuracy: 0.2330\n",
            "Epoch 26/100\n",
            "22/22 [==============================] - 1s 55ms/step - loss: 3.3315 - accuracy: 0.2489\n",
            "Epoch 27/100\n",
            "22/22 [==============================] - 1s 56ms/step - loss: 3.2823 - accuracy: 0.2706\n",
            "Epoch 28/100\n",
            "22/22 [==============================] - 1s 56ms/step - loss: 3.1971 - accuracy: 0.2518\n",
            "Epoch 29/100\n",
            "22/22 [==============================] - 1s 57ms/step - loss: 3.0970 - accuracy: 0.2808\n",
            "Epoch 30/100\n",
            "22/22 [==============================] - 1s 57ms/step - loss: 3.0344 - accuracy: 0.2779\n",
            "Epoch 31/100\n",
            "22/22 [==============================] - 1s 57ms/step - loss: 2.9715 - accuracy: 0.2996\n",
            "Epoch 32/100\n",
            "22/22 [==============================] - 2s 89ms/step - loss: 2.9111 - accuracy: 0.3169\n",
            "Epoch 33/100\n",
            "22/22 [==============================] - 2s 79ms/step - loss: 2.8089 - accuracy: 0.3343\n",
            "Epoch 34/100\n",
            "22/22 [==============================] - 1s 58ms/step - loss: 2.7811 - accuracy: 0.3386\n",
            "Epoch 35/100\n",
            "22/22 [==============================] - 1s 56ms/step - loss: 2.7497 - accuracy: 0.3314\n",
            "Epoch 36/100\n",
            "22/22 [==============================] - 1s 56ms/step - loss: 2.7091 - accuracy: 0.3488\n",
            "Epoch 37/100\n",
            "22/22 [==============================] - 1s 57ms/step - loss: 2.6538 - accuracy: 0.3618\n",
            "Epoch 38/100\n",
            "22/22 [==============================] - 1s 57ms/step - loss: 2.5875 - accuracy: 0.3647\n",
            "Epoch 39/100\n",
            "22/22 [==============================] - 1s 57ms/step - loss: 2.5516 - accuracy: 0.3763\n",
            "Epoch 40/100\n",
            "22/22 [==============================] - 1s 58ms/step - loss: 2.4818 - accuracy: 0.3965\n",
            "Epoch 41/100\n",
            "22/22 [==============================] - 2s 85ms/step - loss: 2.4477 - accuracy: 0.4067\n",
            "Epoch 42/100\n",
            "22/22 [==============================] - 2s 87ms/step - loss: 2.4316 - accuracy: 0.4226\n",
            "Epoch 43/100\n",
            "22/22 [==============================] - 1s 58ms/step - loss: 2.4097 - accuracy: 0.4067\n",
            "Epoch 44/100\n",
            "22/22 [==============================] - 1s 56ms/step - loss: 2.3771 - accuracy: 0.4197\n",
            "Epoch 45/100\n",
            "22/22 [==============================] - 1s 58ms/step - loss: 2.3150 - accuracy: 0.4168\n",
            "Epoch 46/100\n",
            "22/22 [==============================] - 1s 58ms/step - loss: 2.2869 - accuracy: 0.4342\n",
            "Epoch 47/100\n",
            "22/22 [==============================] - 1s 56ms/step - loss: 2.2633 - accuracy: 0.4472\n",
            "Epoch 48/100\n",
            "22/22 [==============================] - 1s 57ms/step - loss: 2.2322 - accuracy: 0.4501\n",
            "Epoch 49/100\n",
            "22/22 [==============================] - 1s 57ms/step - loss: 2.2350 - accuracy: 0.4602\n",
            "Epoch 50/100\n",
            "22/22 [==============================] - 2s 88ms/step - loss: 2.1532 - accuracy: 0.4834\n",
            "Epoch 51/100\n",
            "22/22 [==============================] - 2s 85ms/step - loss: 2.1253 - accuracy: 0.4863\n",
            "Epoch 52/100\n",
            "22/22 [==============================] - 1s 57ms/step - loss: 2.0865 - accuracy: 0.5051\n",
            "Epoch 53/100\n",
            "22/22 [==============================] - 1s 57ms/step - loss: 2.0362 - accuracy: 0.5195\n",
            "Epoch 54/100\n",
            "22/22 [==============================] - 1s 56ms/step - loss: 2.0130 - accuracy: 0.5369\n",
            "Epoch 55/100\n",
            "22/22 [==============================] - 1s 55ms/step - loss: 1.9777 - accuracy: 0.5355\n",
            "Epoch 56/100\n",
            "22/22 [==============================] - 1s 57ms/step - loss: 1.9244 - accuracy: 0.5630\n",
            "Epoch 57/100\n",
            "22/22 [==============================] - 1s 57ms/step - loss: 1.8975 - accuracy: 0.5716\n",
            "Epoch 58/100\n",
            "22/22 [==============================] - 1s 58ms/step - loss: 1.8558 - accuracy: 0.5890\n",
            "Epoch 59/100\n",
            "22/22 [==============================] - 2s 88ms/step - loss: 1.8428 - accuracy: 0.5818\n",
            "Epoch 60/100\n",
            "22/22 [==============================] - 2s 86ms/step - loss: 1.8207 - accuracy: 0.5991\n",
            "Epoch 61/100\n",
            "22/22 [==============================] - 1s 57ms/step - loss: 1.8112 - accuracy: 0.5890\n",
            "Epoch 62/100\n",
            "22/22 [==============================] - 1s 57ms/step - loss: 1.8214 - accuracy: 0.5991\n",
            "Epoch 63/100\n",
            "22/22 [==============================] - 1s 58ms/step - loss: 1.8657 - accuracy: 0.5644\n",
            "Epoch 64/100\n",
            "22/22 [==============================] - 1s 58ms/step - loss: 1.8004 - accuracy: 0.5876\n",
            "Epoch 65/100\n",
            "22/22 [==============================] - 1s 57ms/step - loss: 1.7279 - accuracy: 0.6107\n",
            "Epoch 66/100\n",
            "22/22 [==============================] - 1s 57ms/step - loss: 1.7097 - accuracy: 0.6252\n",
            "Epoch 67/100\n",
            "22/22 [==============================] - 1s 59ms/step - loss: 1.6904 - accuracy: 0.6281\n",
            "Epoch 68/100\n",
            "22/22 [==============================] - 2s 88ms/step - loss: 1.6382 - accuracy: 0.6570\n",
            "Epoch 69/100\n",
            "22/22 [==============================] - 2s 82ms/step - loss: 1.6125 - accuracy: 0.6744\n",
            "Epoch 70/100\n",
            "22/22 [==============================] - 1s 56ms/step - loss: 1.5818 - accuracy: 0.6845\n",
            "Epoch 71/100\n",
            "22/22 [==============================] - 1s 56ms/step - loss: 1.5594 - accuracy: 0.6831\n",
            "Epoch 72/100\n",
            "22/22 [==============================] - 1s 56ms/step - loss: 1.5082 - accuracy: 0.7164\n",
            "Epoch 73/100\n",
            "22/22 [==============================] - 1s 57ms/step - loss: 1.4914 - accuracy: 0.7077\n",
            "Epoch 74/100\n",
            "22/22 [==============================] - 1s 57ms/step - loss: 1.4750 - accuracy: 0.7106\n",
            "Epoch 75/100\n",
            "22/22 [==============================] - 1s 58ms/step - loss: 1.4796 - accuracy: 0.7077\n",
            "Epoch 76/100\n",
            "22/22 [==============================] - 1s 57ms/step - loss: 1.4635 - accuracy: 0.7192\n",
            "Epoch 77/100\n",
            "22/22 [==============================] - 2s 86ms/step - loss: 1.4302 - accuracy: 0.7323\n",
            "Epoch 78/100\n",
            "22/22 [==============================] - 2s 86ms/step - loss: 1.4176 - accuracy: 0.7395\n",
            "Epoch 79/100\n",
            "22/22 [==============================] - 1s 58ms/step - loss: 1.4062 - accuracy: 0.7323\n",
            "Epoch 80/100\n",
            "22/22 [==============================] - 1s 57ms/step - loss: 1.4079 - accuracy: 0.7323\n",
            "Epoch 81/100\n",
            "22/22 [==============================] - 1s 57ms/step - loss: 1.3745 - accuracy: 0.7366\n",
            "Epoch 82/100\n",
            "22/22 [==============================] - 1s 56ms/step - loss: 1.3579 - accuracy: 0.7525\n",
            "Epoch 83/100\n",
            "22/22 [==============================] - 1s 57ms/step - loss: 1.3400 - accuracy: 0.7540\n",
            "Epoch 84/100\n",
            "22/22 [==============================] - 1s 57ms/step - loss: 1.3481 - accuracy: 0.7482\n",
            "Epoch 85/100\n",
            "22/22 [==============================] - 1s 58ms/step - loss: 1.3378 - accuracy: 0.7467\n",
            "Epoch 86/100\n",
            "22/22 [==============================] - 2s 82ms/step - loss: 1.3053 - accuracy: 0.7511\n",
            "Epoch 87/100\n",
            "22/22 [==============================] - 2s 108ms/step - loss: 1.2739 - accuracy: 0.7844\n",
            "Epoch 88/100\n",
            "22/22 [==============================] - 2s 102ms/step - loss: 1.2806 - accuracy: 0.7583\n",
            "Epoch 89/100\n",
            "22/22 [==============================] - 1s 58ms/step - loss: 1.2706 - accuracy: 0.7656\n",
            "Epoch 90/100\n",
            "22/22 [==============================] - 1s 57ms/step - loss: 1.2459 - accuracy: 0.7685\n",
            "Epoch 91/100\n",
            "22/22 [==============================] - 1s 59ms/step - loss: 1.2300 - accuracy: 0.8003\n",
            "Epoch 92/100\n",
            "22/22 [==============================] - 1s 58ms/step - loss: 1.2316 - accuracy: 0.7786\n",
            "Epoch 93/100\n",
            "22/22 [==============================] - 1s 59ms/step - loss: 1.2067 - accuracy: 0.7815\n",
            "Epoch 94/100\n",
            "22/22 [==============================] - 2s 88ms/step - loss: 1.2094 - accuracy: 0.7742\n",
            "Epoch 95/100\n",
            "22/22 [==============================] - 2s 85ms/step - loss: 1.1927 - accuracy: 0.7829\n",
            "Epoch 96/100\n",
            "22/22 [==============================] - 1s 59ms/step - loss: 1.2142 - accuracy: 0.7844\n",
            "Epoch 97/100\n",
            "22/22 [==============================] - 1s 57ms/step - loss: 1.2100 - accuracy: 0.7815\n",
            "Epoch 98/100\n",
            "22/22 [==============================] - 1s 58ms/step - loss: 1.2082 - accuracy: 0.7627\n",
            "Epoch 99/100\n",
            "22/22 [==============================] - 1s 57ms/step - loss: 1.2035 - accuracy: 0.7902\n",
            "Epoch 100/100\n",
            "22/22 [==============================] - 1s 58ms/step - loss: 1.2106 - accuracy: 0.7815\n"
          ]
        }
      ]
    },
    {
      "cell_type": "markdown",
      "source": [
        "**Poem Generation**"
      ],
      "metadata": {
        "id": "ZGnKbO9wV01D"
      }
    },
    {
      "cell_type": "code",
      "source": [
        "seed_text = input(\"Enter first few words\")\n",
        "next_words = 50\n",
        "ouptut_text = \"\"\n",
        "\n",
        "for _ in range(next_words):\n",
        "    token_list = tokenizer.texts_to_sequences([seed_text])[0]\n",
        "    token_list = pad_sequences(\n",
        "        [token_list], maxlen=max_sequence_len-1,\n",
        "      padding='pre')\n",
        "    predicted = np.argmax(model.predict(token_list,\n",
        "                                        verbose=0), axis=-1)\n",
        "    output_word = \"\"\n",
        "\n",
        "    for word, index in tokenizer.word_index.items():\n",
        "        if index == predicted:\n",
        "            output_word = word\n",
        "            break\n",
        "\n",
        "    seed_text += \" \" + output_word\n",
        "\n",
        "print(seed_text)"
      ],
      "metadata": {
        "colab": {
          "base_uri": "https://localhost:8080/"
        },
        "id": "UeuRGEx_Vt8w",
        "outputId": "a52fd800-9168-4e1c-ba81-3add061fd83f"
      },
      "execution_count": 11,
      "outputs": [
        {
          "output_type": "stream",
          "name": "stdout",
          "text": [
            "Enter first few wordsthe prettiest boy i've ever seen\n",
            "the prettiest boy i've ever seen whispers of our inner psalm flight true true dawn true dawn done in we our stand true true done done done done dawn dawn love stand true dawn done done done done dawn given scars we our tomb stand true true done done done dawn dawn love stand true true\n"
          ]
        }
      ]
    }
  ]
}